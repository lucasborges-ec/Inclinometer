{
 "cells": [
  {
   "cell_type": "code",
   "execution_count": 2,
   "metadata": {},
   "outputs": [],
   "source": [
    "import numpy as np\n",
    "import pandas as pd\n",
    "import matplotlib.pyplot as plt\n",
    "from sklearn.metrics import r2_score"
   ]
  },
  {
   "cell_type": "markdown",
   "metadata": {},
   "source": [
    "## Cross-axis Compensation (Em construção)"
   ]
  },
  {
   "cell_type": "markdown",
   "metadata": {},
   "source": [
    "Compensação do erro de posicionamento dos sensores."
   ]
  },
  {
   "cell_type": "markdown",
   "metadata": {},
   "source": [
    "### Offset"
   ]
  },
  {
   "cell_type": "code",
   "execution_count": 5,
   "metadata": {},
   "outputs": [
    {
     "name": "stdout",
     "output_type": "stream",
     "text": [
      "Posicionamento do ângulo 0° no eixo X:  0.0 LSB\n",
      "Posicionamento do ângulo 0° no eixo Y:  0.0 LSB\n"
     ]
    }
   ],
   "source": [
    "## Ensaio no eixo X [LSB]\n",
    "Xx_0   = 0.0\n",
    "Xx_10p = 0.0\n",
    "Xx_10n = 0.0\n",
    "Xy_10p = 0.0\n",
    "Xy_10n = 0.0\n",
    "\n",
    "Offset_x=(Xx_10p+Xx_10n)/2\n",
    "\n",
    "## Ensaio no eixo Y [LSB]\n",
    "Yy_0   = 0.0\n",
    "Yy_10p = 0.0\n",
    "Yy_10n = 0.0\n",
    "Yx_10p = 0.0\n",
    "Yx_10n = 0.0\n",
    "\n",
    "Offset_y=(Yy_10p+Yy_10n)/2\n",
    "\n",
    "\n",
    "print('Posicionamento do ângulo 0° no eixo X: ',Offset_x,'LSB')\n",
    "print('Posicionamento do ângulo 0° no eixo Y: ',Offset_y,'LSB')"
   ]
  },
  {
   "cell_type": "markdown",
   "metadata": {},
   "source": [
    "### Sensitivity"
   ]
  },
  {
   "cell_type": "code",
   "execution_count": 4,
   "metadata": {},
   "outputs": [
    {
     "ename": "NameError",
     "evalue": "name 'Dout_x' is not defined",
     "output_type": "error",
     "traceback": [
      "\u001b[1;31m---------------------------------------------------------------------------\u001b[0m",
      "\u001b[1;31mNameError\u001b[0m                                 Traceback (most recent call last)",
      "\u001b[1;32m<ipython-input-4-f89f6c032968>\u001b[0m in \u001b[0;36m<module>\u001b[1;34m\u001b[0m\n\u001b[0;32m     14\u001b[0m \u001b[1;31m##Xout_comp\u001b[0m\u001b[1;33m\u001b[0m\u001b[1;33m\u001b[0m\u001b[1;33m\u001b[0m\u001b[0m\n\u001b[0;32m     15\u001b[0m \u001b[1;33m\u001b[0m\u001b[0m\n\u001b[1;32m---> 16\u001b[1;33m \u001b[0mXout_comp\u001b[0m\u001b[1;33m=\u001b[0m\u001b[0mDout_x\u001b[0m\u001b[1;33m+\u001b[0m\u001b[0mSyx\u001b[0m\u001b[1;33m*\u001b[0m\u001b[1;33m(\u001b[0m\u001b[1;33m(\u001b[0m\u001b[0mDout_y\u001b[0m\u001b[1;33m-\u001b[0m\u001b[0mOffset_y\u001b[0m\u001b[1;33m)\u001b[0m\u001b[1;33m/\u001b[0m\u001b[0mSyy\u001b[0m\u001b[1;33m)\u001b[0m  \u001b[1;31m#[V]\u001b[0m\u001b[1;33m\u001b[0m\u001b[1;33m\u001b[0m\u001b[0m\n\u001b[0m\u001b[0;32m     17\u001b[0m \u001b[1;33m\u001b[0m\u001b[0m\n\u001b[0;32m     18\u001b[0m \u001b[1;31m##Yout_comp\u001b[0m\u001b[1;33m\u001b[0m\u001b[1;33m\u001b[0m\u001b[1;33m\u001b[0m\u001b[0m\n",
      "\u001b[1;31mNameError\u001b[0m: name 'Dout_x' is not defined"
     ]
    }
   ],
   "source": [
    "##X-channel sensitivity in Y-axis direction\n",
    "Syx=(Dout_B_yx-Dout_A_yx)/2   #[V/g]\n",
    "\n",
    "##Y-channel sensitivity in Y-axis direction\n",
    "Syy=(Dout_B_yy-Dout_A_yy)/2   #[V/g]\n",
    "\n",
    "##Y-channel sensitivity in X-axis direction\n",
    "Sxy=(Dout_B_xy-Dout_A_xy)/2   #[V/g]\n",
    "\n",
    "##X-channel sensitivity in X-axis direction\n",
    "Sxx=(Dout_B_xx-Dout_A_xx)/2   #[V/g]\n",
    "\n",
    "\n",
    "##Xout_comp\n",
    "\n",
    "Xout_comp=Dout_x+Syx*((Dout_y-Offset_y)/Syy)  #[V]\n",
    "\n",
    "##Yout_comp\n",
    "\n",
    "Yout_comp=Dout_y+Sxy*((Dout_x-Offset_x)/Sxx)  #[V]"
   ]
  },
  {
   "cell_type": "code",
   "execution_count": null,
   "metadata": {},
   "outputs": [],
   "source": []
  },
  {
   "cell_type": "markdown",
   "metadata": {},
   "source": [
    "## Curva de Calibração: sensor SCA103T-D04"
   ]
  },
  {
   "cell_type": "markdown",
   "metadata": {},
   "source": [
    "Será realizado ensaio do dispositivo inclinômetro em uma mesa com ajuste de inclinação. A relação linear entre a resposta do sensor, em volts, e o ângulo aplicado na mesa, em graus, é representada no gráfico abaixo. Uma curva de tendência foi gerada a fim de minimizar erros na medição."
   ]
  },
  {
   "cell_type": "code",
   "execution_count": 5,
   "metadata": {},
   "outputs": [
    {
     "data": {
      "image/png": "[encoded data removed]",
      "text/plain": [
       "<Figure size 504x504 with 1 Axes>"
      ]
     },
     "metadata": {
      "needs_background": "light"
     },
     "output_type": "display_data"
    }
   ],
   "source": [
    "#Valores do Ensaio de Calibração\n",
    "x = np.array([-15.0, 0.0, 15.0])               # Valores de inclinação [graus]\n",
    "y = np.array([  5.0, 2.5,  0.0])               # Valores lidos no sensor [volts]\n",
    "z = np.polyfit(x, y, 1)                        # Calcula os coeficientes de uma função de tendência (linear)\n",
    "y_hat = np.poly1d(z)(x)                        # Gera os pontos baseando-se na função de tendência\n",
    "\n",
    "plt.figure(1, figsize=(7,7))\n",
    "plt.title('Curva de Calibração', fontsize=18)\n",
    "plt.plot(x,y,\"+\", ms=12, mec=\"k\")\n",
    "plt.plot(x, y_hat, \"r--\", lw=1);\n",
    "text = f\"$y={z[0]:0.3f}\\;x{z[1]:+0.3f}$\\n$R^2 = {r2_score(y,y_hat):0.3f}$\";\n",
    "plt.gca().text(0.25, .9, text,transform=plt.gca().transAxes, fontsize=14, verticalalignment='top');\n",
    "plt.xticks(fontsize=14); plt.yticks(fontsize=14);\n",
    "plt.xlabel('Tilt Angle [°]', fontsize=14); plt.ylabel('Output [LSB]', fontsize=14);\n",
    "plt.grid();"
   ]
  },
  {
   "cell_type": "markdown",
   "metadata": {},
   "source": [
    "## Leitura e Conversão de Dados"
   ]
  },
  {
   "cell_type": "code",
   "execution_count": null,
   "metadata": {
    "scrolled": false
   },
   "outputs": [],
   "source": [
    "DimData = pd.read_excel('DATA/DATA.xlsx')\n",
    "data_a=DimData.values\n",
    "data_d=data_a\n",
    "\n",
    "lines=np.size(data_a,0)\n",
    "colums=np.size(data_a,1)\n",
    "\n",
    "# Conversão do valor analógico do sensor [volts] em inclinação [graus]\n",
    "for i in range(lines):\n",
    "    data_d[i][1]=(data_a[i][1]-z[1])/(-z[0])\n",
    "    data_d[i][2]=(data_a[i][2]-z[1])/(-z[0])"
   ]
  },
  {
   "cell_type": "markdown",
   "metadata": {
    "scrolled": false
   },
   "source": [
    "## Cálculo de Deslocamentos"
   ]
  },
  {
   "cell_type": "code",
   "execution_count": null,
   "metadata": {},
   "outputs": [],
   "source": [
    "desloc=np.zeros((lines,colums))\n",
    "desloc[:,0]=data_d[:,0]\n",
    "\n",
    "for i in range(lines-1):\n",
    "    desloc[i+1][1]=desloc[i][1]+(desloc[i+1][0]-desloc[i][0])*-np.tan(np.radians(data_d[i][1]))\n",
    "    desloc[i+1][2]=desloc[i][2]+(desloc[i+1][0]-desloc[i][0])*-np.tan(np.radians(data_d[i][2]))"
   ]
  },
  {
   "cell_type": "code",
   "execution_count": null,
   "metadata": {},
   "outputs": [],
   "source": [
    "plt.figure(2, figsize=(8,10))\n",
    "eixo=np.array(['X','Y'])\n",
    "for i in range(2):\n",
    "    plt.subplot(1,2,i+1)\n",
    "    plt.plot(desloc[:,1], desloc[:,0])\n",
    "    plt.xlabel('Deslocamento - Eixo {0:2.1}[cm]'.format(eixo[i]), fontsize=14); plt.ylabel('Cota [cm]', fontsize=14);\n",
    "    plt.xticks(fontsize=14); plt.yticks(fontsize=14);\n",
    "    plt.tight_layout(3);\n",
    "    plt.grid();"
   ]
  },
  {
   "cell_type": "markdown",
   "metadata": {},
   "source": [
    "## Código em Fase de Teste"
   ]
  },
  {
   "cell_type": "code",
   "execution_count": null,
   "metadata": {},
   "outputs": [],
   "source": [
    "Leitura_x=-45\n",
    "Leitura_y=45\n",
    "Leitura_z=0\n",
    "\n",
    "\n",
    "alpha_x=0\n",
    "alpha_y=0\n",
    "alpha_z=0\n",
    "\n",
    "\n",
    "Lx=np.array([[1,0,0]])\n",
    "Ly=np.array([[0,1,0]])\n",
    "Lz=np.array([[0,0,1]])\n",
    "\n",
    "\n",
    "Rx=np.array([[1.0,                                   0.0,                                     0.0],\n",
    "             [0.0, np.cos(np.radians(alpha_x+Leitura_x)),  -np.sin(np.radians(alpha_x+Leitura_x))],\n",
    "             [0.0, np.sin(np.radians(alpha_x+Leitura_x)),   np.cos(np.radians(alpha_x+Leitura_x))]])\n",
    "\n",
    "Ry=np.array([[ np.cos(np.radians(alpha_y+Leitura_y)), 0.0,  np.sin(np.radians(alpha_y+Leitura_y))],\n",
    "             [0.0                                   , 1.0,                                      0],\n",
    "             [-np.sin(np.radians(alpha_y+Leitura_y)), 0.0,  np.cos(np.radians(alpha_y+Leitura_y))]])\n",
    "\n",
    "Rz=np.array([[  np.cos(np.radians(alpha_z+Leitura_z)),  -np.sin(np.radians(alpha_z+Leitura_z)), 0.0],\n",
    "             [  np.sin(np.radians(alpha_z+Leitura_z)),  np.cos(np.radians(alpha_z+Leitura_z)), 0.0],\n",
    "             [                                   0.0,                                    0.0, 1.0]])\n",
    "\n",
    "\n",
    "P2=np.dot(np.linalg.inv(Rx),np.dot(np.linalg.inv(Ry), np.dot(Rz, np.dot(Ry,Rx))))\n",
    "P1=np.dot(np.linalg.inv(Rx),np.dot(Ry,np.dot(Rx,P2)))\n",
    "P0=np.dot(Rx, P1)\n",
    "P=np.dot(Rz,np.dot(Rx,np.dot(Ry,np.dot(np.linalg.inv(Ry),np.dot(np.linalg.inv(Rx),np.linalg.inv(Rz))))))\n",
    "\n",
    "R=np.dot(np.dot(Rz,Ry),Rx)\n",
    "\n",
    "#print (Rx)\n",
    "#print (Ry)\n",
    "#print (Rz)\n",
    "print (R)\n",
    "Cx=np.dot(R,Lx.T)\n",
    "Cy=np.dot(R,Ly.T)\n",
    "Cz=np.dot(R,Lz.T)\n",
    "\n",
    "#print(Cz)"
   ]
  },
  {
   "cell_type": "code",
   "execution_count": null,
   "metadata": {},
   "outputs": [],
   "source": [
    "Leitura_x=0\n",
    "Leitura_y=0\n",
    "#Leitura_z=0\n",
    "\n",
    "\n",
    "alpha_x=45\n",
    "alpha_y=45\n",
    "alpha_z=0\n",
    "\n",
    "#EIXO X\n",
    "X=1\n",
    "z=np.cos(np.radians(Leitura_x+alpha_x))\n",
    "x=np.sin(np.radians(Leitura_x+alpha_x))*np.cos(np.radians(alpha_z))\n",
    "y=np.sin(np.radians(Leitura_x+alpha_x))*np.sin(np.radians(alpha_z))\n",
    "\n",
    "#EIXO Y\n",
    "Y=1\n",
    "z=np.cos(np.radians(Leitura_x+alpha_x))\n",
    "x=np.sin(np.radians(Leitura_x+alpha_x))*np.cos(np.radians(alpha_z))\n",
    "y=np.sin(np.radians(Leitura_x+alpha_x))*np.sin(np.radians(alpha_z))"
   ]
  },
  {
   "cell_type": "code",
   "execution_count": null,
   "metadata": {},
   "outputs": [],
   "source": [
    "print (np.degrees(np.arctan(y/z)))\n",
    "print (x,y,z)"
   ]
  },
  {
   "cell_type": "code",
   "execution_count": null,
   "metadata": {},
   "outputs": [],
   "source": [
    "R=np.array([ [                                   0 ,                                     0, 1.0],\n",
    "             [   np.sin(np.radians(alpha_x+alpha_z)),  np.cos(np.radians(alpha_x+alpha_z)), 0.0],\n",
    "             [  -np.cos(np.radians(alpha_x+alpha_z)),  np.sin(np.radians(alpha_x+alpha_z)), 1.0]])\n",
    "\n",
    "print (R*Ly)"
   ]
  },
  {
   "cell_type": "code",
   "execution_count": null,
   "metadata": {},
   "outputs": [],
   "source": []
  }
 ],
 "metadata": {
  "kernelspec": {
   "display_name": "Python 3",
   "language": "python",
   "name": "python3"
  },
  "language_info": {
   "codemirror_mode": {
    "name": "ipython",
    "version": 3
   },
   "file_extension": ".py",
   "mimetype": "text/x-python",
   "name": "python",
   "nbconvert_exporter": "python",
   "pygments_lexer": "ipython3",
   "version": "3.7.3"
  }
 },
 "nbformat": 4,
 "nbformat_minor": 2
}
