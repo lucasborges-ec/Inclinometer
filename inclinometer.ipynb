{
 "cells": [
  {
   "cell_type": "code",
   "execution_count": 1,
   "metadata": {},
   "outputs": [],
   "source": [
    "import spidev\n",
    "import time\n",
    "import numpy as np\n",
    "import serial\n",
    "import struct"
   ]
  },
  {
   "cell_type": "code",
   "execution_count": 2,
   "metadata": {},
   "outputs": [],
   "source": [
    "#-----------------------------------------------------------------------------------#\n",
    "'''\n",
    "Recebe infomações preliminares como 'porta' e 'baudrate' a fim de dar início à\n",
    "comunicação serial\n",
    "'''\n",
    "def intConfig(port, baudRate):\n",
    "    global ser                                       \n",
    "    ser = serial.Serial(port, baudRate, timeout=1)\n",
    "    ser.stopbits = serial.STOPBITS_ONE            # Dois bits como final de cada byte (representou uma melhor comportamento)\n",
    "    ser.bytesize = 8                              # Tamanho do byte   \n",
    "    ser.parity = serial.PARITY_NONE               # Não há verificação de paridade\n",
    "    \n",
    "    print (\"Serial port opened \" + port + \" over Baudrate \" + str(baudRate))\n",
    "    \n",
    "    return ser\n",
    "\n",
    "#-----------------------------------------------------------------------------------#\n",
    "def readSensor(spi):\n",
    "    start=spi.xfer([0b00000000, 0x0,0x0])\n",
    "    d1a=spi.xfer([0b00010000, 0x0, 0x0])        # Sending 2 additional bytes (0x0) in order to have enough time to receave 11 bits from the sensor\n",
    "    d1b=spi.xfer([0b00010001, 0x0, 0x0])        # Try xfer2!!!\n",
    "    x1=( d1a[1] << 8 ) + d1a[2] >> 5                                           # 11 bits in 2 bytes size mensage\n",
    "    y1=( d1b[1] << 8 ) + d1b[2] >> 5\n",
    "    a=(x1-y1)/6554.0\n",
    "    return a\n",
    "\n",
    "#-----------------------------------------------------------------------------------#\n",
    "\n",
    "# Creates a object\n",
    "spi1=spidev.SpiDev()\n",
    "spi2=spidev.SpiDev()\n",
    "\n",
    "# Starts SPI communication\n",
    "spi1.open(0,0)\n",
    "spi2.open(0,1)\n",
    "\n",
    "# SPI settings\n",
    "spi1.max_speed_hz = 5000\n",
    "spi2.max_speed_hz = 5000\n",
    "spi1.mode = 0b00    # Look for this information in datasheet!!!!!\n",
    "spi2.mode = 0b00"
   ]
  },
  {
   "cell_type": "code",
   "execution_count": null,
   "metadata": {},
   "outputs": [],
   "source": [
    "#Starts serial communication\n",
    "port=['/dev/ttyS0','/dev/ttyAMA0']\n",
    "baudRate=9600\n",
    "\n",
    "ser=intConfig(port[1], baudRate)"
   ]
  },
  {
   "cell_type": "code",
   "execution_count": 3,
   "metadata": {},
   "outputs": [
    {
     "ename": "NameError",
     "evalue": "name 'ser' is not defined",
     "output_type": "error",
     "traceback": [
      "\u001b[0;31m---------------------------------------------------------------------------\u001b[0m",
      "\u001b[0;31mNameError\u001b[0m                                 Traceback (most recent call last)",
      "\u001b[0;32m<ipython-input-3-08c2da36db24>\u001b[0m in \u001b[0;36m<module>\u001b[0;34m\u001b[0m\n\u001b[1;32m     17\u001b[0m             \u001b[0mdata2\u001b[0m\u001b[0;34m=\u001b[0m\u001b[0mstruct\u001b[0m\u001b[0;34m.\u001b[0m\u001b[0mpack\u001b[0m\u001b[0;34m(\u001b[0m\u001b[0;34m'd'\u001b[0m\u001b[0;34m,\u001b[0m\u001b[0mnp\u001b[0m\u001b[0;34m.\u001b[0m\u001b[0mmean\u001b[0m\u001b[0;34m(\u001b[0m\u001b[0mavr2\u001b[0m\u001b[0;34m)\u001b[0m\u001b[0;34m)\u001b[0m\u001b[0;34m\u001b[0m\u001b[0;34m\u001b[0m\u001b[0m\n\u001b[1;32m     18\u001b[0m \u001b[0;34m\u001b[0m\u001b[0m\n\u001b[0;32m---> 19\u001b[0;31m             \u001b[0mser\u001b[0m\u001b[0;34m.\u001b[0m\u001b[0mwrite\u001b[0m\u001b[0;34m(\u001b[0m\u001b[0;34m'<'\u001b[0m\u001b[0;34m.\u001b[0m\u001b[0mencode\u001b[0m\u001b[0;34m(\u001b[0m\u001b[0;34m)\u001b[0m\u001b[0;34m)\u001b[0m\u001b[0;34m\u001b[0m\u001b[0;34m\u001b[0m\u001b[0m\n\u001b[0m\u001b[1;32m     20\u001b[0m             \u001b[0mser\u001b[0m\u001b[0;34m.\u001b[0m\u001b[0mwrite\u001b[0m\u001b[0;34m(\u001b[0m\u001b[0;34m'<'\u001b[0m\u001b[0;34m.\u001b[0m\u001b[0mencode\u001b[0m\u001b[0;34m(\u001b[0m\u001b[0;34m)\u001b[0m\u001b[0;34m)\u001b[0m\u001b[0;34m\u001b[0m\u001b[0;34m\u001b[0m\u001b[0m\n\u001b[1;32m     21\u001b[0m             \u001b[0mser\u001b[0m\u001b[0;34m.\u001b[0m\u001b[0mwrite\u001b[0m\u001b[0;34m(\u001b[0m\u001b[0mdata1\u001b[0m\u001b[0;34m)\u001b[0m\u001b[0;34m\u001b[0m\u001b[0;34m\u001b[0m\u001b[0m\n",
      "\u001b[0;31mNameError\u001b[0m: name 'ser' is not defined"
     ]
    }
   ],
   "source": [
    "# READING SENSORS\n",
    "\n",
    "samples=75\n",
    "std=np.deg2rad(np.sin(0.3)) #graus\n",
    "\n",
    "avr1=np.zeros(samples)\n",
    "avr2=np.zeros(samples)\n",
    "\n",
    "try:\n",
    "    while True:\n",
    "        for i in range (samples):\n",
    "            avr1[i]=readSensor(spi1)\n",
    "            avr2[i]=readSensor(spi2)\n",
    "\n",
    "        if (np.std(avr1)<std or np.std(avr2)<std):\n",
    "            data1=struct.pack('d',np.mean(avr1))\n",
    "            data2=struct.pack('d',np.mean(avr2))\n",
    "        \n",
    "            ser.write('<'.encode())\n",
    "            ser.write('<'.encode())\n",
    "            ser.write(data1)\n",
    "            ser.write(data2)\n",
    "\n",
    "        else:\n",
    "            ser.write('ERROR'.encode())\n",
    "            \n",
    "except KeyboardInterrupt:\n",
    "    spi1.close()\n",
    "    spi2.close()\n"
   ]
  },
  {
   "cell_type": "code",
   "execution_count": null,
   "metadata": {},
   "outputs": [],
   "source": [
    "data=struct.pack('f',1.5,2.5)\n",
    "print(data)\n",
    "\n",
    "ser.write(data)"
   ]
  },
  {
   "cell_type": "code",
   "execution_count": null,
   "metadata": {},
   "outputs": [],
   "source": [
    "a=np.array([1,2,3,4,5])\n",
    "print(np.std(a))"
   ]
  },
  {
   "cell_type": "code",
   "execution_count": null,
   "metadata": {},
   "outputs": [],
   "source": [
    "a1=np.rad2deg(np.arcsin(0.00523597))\n",
    "print(a1)"
   ]
  },
  {
   "cell_type": "code",
   "execution_count": null,
   "metadata": {},
   "outputs": [],
   "source": [
    "a=\n",
    "print(a)"
   ]
  },
  {
   "cell_type": "code",
   "execution_count": null,
   "metadata": {},
   "outputs": [],
   "source": []
  }
 ],
 "metadata": {
  "kernelspec": {
   "display_name": "Python 3",
   "language": "python",
   "name": "python3"
  },
  "language_info": {
   "codemirror_mode": {
    "name": "ipython",
    "version": 3
   },
   "file_extension": ".py",
   "mimetype": "text/x-python",
   "name": "python",
   "nbconvert_exporter": "python",
   "pygments_lexer": "ipython3",
   "version": "3.7.3"
  }
 },
 "nbformat": 4,
 "nbformat_minor": 4
}
